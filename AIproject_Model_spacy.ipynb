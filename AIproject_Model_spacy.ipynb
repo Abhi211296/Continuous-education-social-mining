{
  "nbformat": 4,
  "nbformat_minor": 0,
  "metadata": {
    "colab": {
      "private_outputs": true,
      "provenance": []
    },
    "kernelspec": {
      "name": "python3",
      "display_name": "Python 3"
    },
    "language_info": {
      "name": "python"
    }
  },
  "cells": [
    {
      "cell_type": "code",
      "source": [
        "import pandas as pd\n",
        "import spacy\n"
      ],
      "metadata": {
        "id": "37Lna1T_BpjI"
      },
      "execution_count": null,
      "outputs": []
    },
    {
      "cell_type": "code",
      "source": [
        "!pip install https://github.com/explosion/spacy-models/releases/download/en_core_web_sm-2.2.5/en_core_web_sm-2.2.5.tar.gz"
      ],
      "metadata": {
        "id": "Aonh4E915xOd"
      },
      "execution_count": null,
      "outputs": []
    },
    {
      "cell_type": "code",
      "source": [
        "nlp=spacy.load('en_core_web_sm')\n",
        "nlp.pipe_names"
      ],
      "metadata": {
        "id": "beR2uOWxFOOc"
      },
      "execution_count": null,
      "outputs": []
    },
    {
      "cell_type": "code",
      "source": [
        "for ent in doc.ents:\n",
        "  print(ent.text, ent.start_char, ent.end_char, ent.label_)"
      ],
      "metadata": {
        "id": "jxEMSDLPWFm4"
      },
      "execution_count": null,
      "outputs": []
    },
    {
      "cell_type": "code",
      "source": [
        "nlp.pipe_names"
      ],
      "metadata": {
        "id": "quzeS-LMGRNC"
      },
      "execution_count": null,
      "outputs": []
    },
    {
      "cell_type": "code",
      "source": [
        "ner=nlp.get_pipe(\"ner\")"
      ],
      "metadata": {
        "id": "0pruef4uG-Yk"
      },
      "execution_count": null,
      "outputs": []
    },
    {
      "cell_type": "code",
      "source": [],
      "metadata": {
        "id": "E1iaq6OGHF_Q"
      },
      "execution_count": null,
      "outputs": []
    },
    {
      "cell_type": "code",
      "source": [
        "train = [\n",
        "    (\n",
        "        \"come get covid vaccine clinics today barrie owen sound campuses running  pm httpstcordewhrpu\", {\"entities\": [(37, 43, \"LOC\"), (44, 54, \"LOC\"),]},\n",
        "),\n",
        "    (\n",
        "        \"vax clinic update govaxx bus scheduled visit barrie campus today maintenance issue expect httpstcodfzeedeet\",\n",
        "        {\n",
        "            \"entities\": [\n",
        "                (45, 58, \"LOC\"),\n",
        "            ]\n",
        "        },\n",
        "    ),\n",
        "    (\n",
        "        \"rt georgian_ctl hey georgiancollege teaching peers wednesday hump day lots great pd available virtual smorgasbo\",\n",
        "        {\n",
        "            \"entities\": [\n",
        "                (3, 15, \"PER\"),\n",
        "                (30, 35, \"COLLEGE\"),\n",
        "                (36, 44, \"MISC\"),\n",
        "                (45, 50, \"MISC\"),\n",
        "            ]\n",
        "        },\n",
        "    ),\n",
        "    (\n",
        "        \"students georgian president shares statement lockdown barrie campus want assure start t httpstcohwmwmgwgl\",\n",
        "        {\n",
        "            \"entities\": [\n",
        "                (0, 8, \"PER\"),\n",
        "                (18, 27, \"PER\"),\n",
        "                (54, 67, \"LOC\"),\n",
        "            ]\n",
        "        },\n",
        "    ),\n",
        "    (\n",
        "        \"orillia barrie owensound students drop get covid vaccine week get vax clinic details httpstcoztmbyqqf\",\n",
        "        {\n",
        "            \"entities\": [\n",
        "                (0, 7, \"LOC\"),\n",
        "                (8, 14, \"LOC\"),\n",
        "                (15, 24, \"LOC\"),\n",
        "            ]\n",
        "        },\n",
        "    ),\n",
        "    (\n",
        "        \"second year advertising marketing communications business marketing students travelled toronto day visit twitter grip limited httpsbitlyliztvc experiencegeorgian\",\n",
        "        {\n",
        "            \"entities\": [\n",
        "                (12, 23, \"PROGRAM\"),\n",
        "                (24, 33, \"PROGRAM\"),\n",
        "                (34, 48, \"PROGRAM\"),\n",
        "                (49, 57, \"PROGRAM\"),\n",
        "                (58, 67, \"PROGRAM\"),\n",
        "            ]\n",
        "        },\n",
        "    ),\n",
        "    (\n",
        "        \"meet brooke hanna getting pregnant age  threw curveball plans came georgian age  heres called team took free courses excelling practical nursing program httpbitlyzxzxr  i wanted expand skills knowledge without help georgian none would possible said  want take free course orillia campus offering chemistry sept  dec  call  ext  details\",\n",
        "        {\n",
        "            \"entities\": [\n",
        "                (137, 144, \"PROGRAM\"),\n",
        "            ]\n",
        "        },\n",
        "    ),\n",
        "    (\n",
        "        \"students big data analytics program organizing big data insights conference summer  july  its excellent opportunity network register online get tickets httpsbitlyjhqzyz\",\n",
        "        {\n",
        "            \"entities\": [\n",
        "                (9, 27, \"PROGRAM\"),\n",
        "            ]\n",
        "        },\n",
        "    ),\n",
        "\t  (\n",
        "      \"artificial intelligence course is developing among new technology students in barrie\",\n",
        "      {\n",
        "\t          \"entities\":[\n",
        "\t\t          (0,23, \"PROGRAM\"),\n",
        "              (78,84,\"LOC\"),\n",
        "            ]\n",
        "\t},\n",
        "  ),\n",
        "  (\n",
        "      \"machine learning can solve multiple human monotonous tasks\",\n",
        "  {\n",
        "\t        \"entities\":[(0,7,\"PROGRAM\"),(8,16,\"PROGRAM\"),\n",
        "                         ]\n",
        "\t},\n",
        "  ),\n",
        "(\"approximately students georgians culinary hospitality programs chance hone skills different setting unique clientele past weeks theyve canadian forces base borden utilizing food services training cadre labs barrie campus restored due recent fire httpbitlygcbaseborden\",\n",
        "        {\n",
        "            \"entities\": [\n",
        "                (33, 41, \"PROGRAM\"),\n",
        "                (42, 53, \"PROGRAM\"),\n",
        "            ]\n",
        "        },\n",
        "    ),\n",
        "    (\n",
        "        \"environmental technology students receive bursaries orillia fish game conservation club projects conservation environmental studies andor fish wildlife management httpsbitlyinegh\",\n",
        "        {\n",
        "            \"entities\": [\n",
        "                (138, 162, \"PROJECT\"),\n",
        "                (60, 82, \"PROJECT\"),\n",
        "                (0, 24, \"PROGRAM\"),\n",
        "            ]\n",
        "        },\n",
        "    ),\n",
        "    (\n",
        "        \"proud michele mcconney lisa buchanan honoured awards college administrators network outstanding accomplishments contributions ontario college system congratulations httpbitlyocasaawards ocasa georgian college athletics\",\n",
        "        {\n",
        "            \"entities\": [\n",
        "                (6, 22, \"PER\"),\n",
        "                (23, 36, \"PER\"),\n",
        "            ]\n",
        "        },\n",
        "    ),\n",
        "    (\n",
        "        \"thrilled massage therapy veterinary technician veterinary assistant programs received high accreditation rating recent onsite reviews canadian massage therapy council accreditation canadian council animal care httpbitlyxpaf\",\n",
        "        {\n",
        "            \"entities\": [\n",
        "                (9, 24, \"PROGRAM\"),\n",
        "                (25, 56, \"PROGRAM\"),\n",
        "                (134, 166, \"ORG\"),\n",
        "            ]\n",
        "        },\n",
        "    ),\n",
        "    (\n",
        "        \"mechanical engineering technology student connor macinnis robot present peter moore special gift signage unveiling peter b moore advanced technology centre robots innovation\",\n",
        "        {\n",
        "            \"entities\": [\n",
        "                (0, 33, \"PROGRAM\"),\n",
        "            ]\n",
        "        },\n",
        "    ),\n",
        "    (\n",
        "        \"congratulations jocelyn leveillee developmental services worker graduate presented governor generals academic medal convocation june  prestigious medal awarded georgian graduate exemplified academic excellence achieving highest overall program weighted average diploma program graduates given year jocelyn graduated overall average  per cent httpsbitlyxpmm\",\n",
        "        {\n",
        "            \"entities\": [\n",
        "                (16, 33, \"PER\"),\n",
        "            ]\n",
        "        },\n",
        "    ),\n",
        "    (\n",
        "        \"georgians owen sound campus offers wide variety programs great facilities including canadas advanced marine simulation research centre httpsbitlymkmtut\",\n",
        "        {\n",
        "            \"entities\": [\n",
        "                (101, 134, \"ORG\"),\n",
        "            ]\n",
        "        },\n",
        "    ),\n",
        "    (\n",
        "        \"rt georgianpre introduction combat challenge fitness class today  httpstcoqovraqp\",\n",
        "        {\n",
        "            \"entities\": [\n",
        "                (45, 52, \"PROGRAM\"),\n",
        "            ]\n",
        "        },\n",
        "    ),\n",
        "    (\n",
        "        \"newly transformed wing opened preparation honours bachelor science  nursing degree program that httpstconirvozlu\",\n",
        "        {\n",
        "            \"entities\": [\n",
        "                (68, 75, \"PROGRAM\"),\n",
        "            ]\n",
        "        },\n",
        "    ),\n",
        "    (\n",
        "        \"rt georgianmuskoka well something dont see georgian college muskoka campus every day program coordinator rob davidson\",\n",
        "        {\n",
        "            \"entities\": [\n",
        "                (60, 67, \"LOC\"),\n",
        "            ]\n",
        "        },\n",
        "    ),\n",
        "    (\n",
        "        \"rt towncollingwood georgian college offers free upskill tourism microcredentials address labour challenges experienced hos\",\n",
        "        {\n",
        "            \"entities\": [\n",
        "                (56, 63, \"PROGRAM\"),\n",
        "            ]\n",
        "        },\n",
        "    ),\n",
        "    (\n",
        "        \"peopleofgeorgian meet diksha project management student delhi india need believe an httpstcoixmfvaajgk\",\n",
        "        {\n",
        "            \"entities\": [\n",
        "                (29, 47, \"PROGRAM\"),\n",
        "                (22, 28, \"PER\"),\n",
        "                (62, 67, \"LOC\"),\n",
        "                (56, 61, \"LOC\"),\n",
        "            ]\n",
        "        },\n",
        "    ),\n",
        "]\n",
        "\n"
      ],
      "metadata": {
        "id": "ZCzdl1tWo3hL"
      },
      "execution_count": null,
      "outputs": []
    },
    {
      "cell_type": "code",
      "source": [
        "from pandas.io.parsers.readers import annotations\n",
        "for _, annotations in train:\n",
        "  for ent in annotations.get(\"entities\"):\n",
        "    ner.add_label(ent[2])\n",
        "\n"
      ],
      "metadata": {
        "id": "wWg-SG-PHHHJ"
      },
      "execution_count": null,
      "outputs": []
    },
    {
      "cell_type": "code",
      "source": [
        "disable_pipes= [ pipe for pipe in nlp.pipe_names if pipe != 'ner']"
      ],
      "metadata": {
        "id": "qUlVTYGPHLAj"
      },
      "execution_count": null,
      "outputs": []
    },
    {
      "cell_type": "code",
      "source": [
        "pipe_exceptions = [\"ner\", \"trf_wordpiecer\", \"trf_tok2vec\"]\n",
        "unaffected_pipes = [pipe for pipe in nlp.pipe_names if pipe not in pipe_exceptions]"
      ],
      "metadata": {
        "id": "ql4OYqNBHLxo"
      },
      "execution_count": null,
      "outputs": []
    },
    {
      "cell_type": "code",
      "source": [
        "import random\n",
        "from spacy.util import minibatch , compounding\n",
        "from pathlib import Path\n",
        "\n",
        "with nlp.disable_pipes(*disable_pipes):\n",
        "  optimizer= nlp.resume_training()\n",
        "\n",
        "  for iteration in range(500):\n",
        "\n",
        "    random.shuffle(train)\n",
        "    losses={}\n",
        "\n",
        "    batches= minibatch(train,size=compounding(1.0, 4.0, 1.001))\n",
        "    for batch in batches:\n",
        "        text, annotation= zip(*batch)\n",
        "        nlp.update(\n",
        "                    text,\n",
        "                   annotation,\n",
        "                   drop=0.5,\n",
        "                   losses=losses,\n",
        "                   sgd=optimizer\n",
        "        )\n",
        "        print('Losses', losses)"
      ],
      "metadata": {
        "id": "F_14FXAUHL1h"
      },
      "execution_count": null,
      "outputs": []
    },
    {
      "cell_type": "code",
      "source": [
        "for text, _ in train:\n",
        "  doc= nlp(text)\n",
        "  print('Entities', [(ent.text,ent.label_) for ent in doc.ents])"
      ],
      "metadata": {
        "id": "ELyEbxSqIoGh"
      },
      "execution_count": null,
      "outputs": []
    },
    {
      "cell_type": "code",
      "source": [
        "from spacy import displacy\n",
        "\n",
        "doc=nlp(\"marketing is core as per georgian college barrie\")\n",
        "for ent in doc.ents:\n",
        "  print(ent.text, ent.start_char, ent.end_char, ent.label_)\n",
        "displacy.render(nlp(doc.text), style='ent', jupyter=True)"
      ],
      "metadata": {
        "id": "6lrfZFhKiDuc"
      },
      "execution_count": null,
      "outputs": []
    },
    {
      "cell_type": "code",
      "source": [
        "scorer = nlp.evaluate(train)\n",
        "TP = scorer.ner.tp\n",
        "FP = scorer.ner.fp\n",
        "FN = scorer.ner.fn"
      ],
      "metadata": {
        "id": "T3O3Fy1A7Cgu"
      },
      "execution_count": null,
      "outputs": []
    },
    {
      "cell_type": "code",
      "source": [
        "scorer = nlp.evaluate(train)\n",
        "for ent_type, scorer_ent_type in scorer.ner_per_ents.items():\n",
        "    TP = scorer_ent_type.tp\n",
        "    FP = scorer_ent_type.fp\n",
        "    FN = scorer_ent_type.fn\n",
        "    print('Ent_type:', ent_type, 'TP:', TP, 'FP:', FP, 'FN:', FN)"
      ],
      "metadata": {
        "id": "cg8Xj0Bm7KNF"
      },
      "execution_count": null,
      "outputs": []
    }
  ]
}